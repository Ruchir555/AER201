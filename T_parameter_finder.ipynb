{
  "nbformat": 4,
  "nbformat_minor": 0,
  "metadata": {
    "colab": {
      "name": "T_parameter_finder.ipynb",
      "provenance": [],
      "collapsed_sections": [],
      "authorship_tag": "ABX9TyMZJ/ddPHllkuXt60YgY53s",
      "include_colab_link": true
    },
    "kernelspec": {
      "name": "python3",
      "display_name": "Python 3"
    },
    "language_info": {
      "name": "python"
    }
  },
  "cells": [
    {
      "cell_type": "markdown",
      "metadata": {
        "id": "view-in-github",
        "colab_type": "text"
      },
      "source": [
        "<a href=\"https://colab.research.google.com/github/Ruchir555/AER201/blob/master/T_parameter_finder.ipynb\" target=\"_parent\"><img src=\"https://colab.research.google.com/assets/colab-badge.svg\" alt=\"Open In Colab\"/></a>"
      ]
    },
    {
      "cell_type": "markdown",
      "metadata": {
        "id": "ChTCy5I_SwMl"
      },
      "source": [
        "This program finds the $t$-parameters between an arbitrary numerical sequence of vectors following the majorization condition. This is done in the function t_parameters(x, y). Firstly, it sorts the vectors $x$ & $y$ into descending order, after which it checks whether or not the vectors actually obey the majorization relation ($x \\prec y$), and if they are the same length. Then, it finds the k index such that $y_k \\leq x_1 \\leq y_{k-1}$, such that we can write the respective t-parameter as:\n",
        "\n",
        "$$\n",
        "t = \\frac{x_1-y_k}{y_1-y_k}\n",
        "$$\n",
        "\n",
        "This process is repeated with all the reduced vectors (obtained by removing the first element of the vector), such that ($d-1$) $t$-parameters are found for vectors of length $d$. \n",
        "\n",
        "This program has several helper functions (sum_arr_till_index(arr, idx), isMajorized(x,y), bubbleSort(arr), find_k_idx(x,y)) which are fairly straightforward, but explained below nevertheless. "
      ]
    },
    {
      "cell_type": "code",
      "metadata": {
        "id": "LhBqHJfASmUu",
        "colab": {
          "base_uri": "https://localhost:8080/"
        },
        "outputId": "365d2d8c-ab0d-49bc-9ad8-b6fdc28c56aa"
      },
      "source": [
        "def bubbleSort(arr):  #Sort in descending order, O(n^2)\n",
        "    n = len(arr)\n",
        "    # Traverse through all array elements\n",
        "    for i in range(n):\n",
        "        # Last i elements are already in place\n",
        "        for j in range(0, n-i-1):\n",
        "            # traverse the array from 0 to n-i-1\n",
        "            # Swap if the element found is greater\n",
        "            # than the next element\n",
        "            if arr[j] < arr[j+1] :\n",
        "                arr[j], arr[j+1] = arr[j+1], arr[j]\n",
        "    return arr\n",
        "\n",
        "#Test code:\n",
        "x = [5, 3, 2, 9, 10, 19, 110]\n",
        "print(bubbleSort(x))"
      ],
      "execution_count": 3,
      "outputs": [
        {
          "output_type": "stream",
          "text": [
            "[110, 19, 10, 9, 5, 3, 2]\n"
          ],
          "name": "stdout"
        }
      ]
    },
    {
      "cell_type": "code",
      "metadata": {
        "colab": {
          "base_uri": "https://localhost:8080/"
        },
        "id": "D8R-0j39QWsr",
        "outputId": "200e7181-e421-414b-a05f-b426f90ad8be"
      },
      "source": [
        "def sum_arr_till_index(arr, idx): #sum an array from index 0 to idx\n",
        "  sum = 0\n",
        "  for i in range(0,idx):\n",
        "    sum += arr[i]\n",
        "  return sum\n",
        "\n",
        "def isMajorized(x,y): #check if x is majorized by y\n",
        "  if (len(x)!= len(y)):\n",
        "    return False\n",
        "\n",
        "  isTrue = 1  #1 == True, 0 == False\n",
        "  x = bubbleSort(x)\n",
        "  y = bubbleSort(y)\n",
        "\n",
        "  for k in range(0,len(x)+1):\n",
        "    if (sum_arr_till_index(x,k) <= sum_arr_till_index(y,k)):  #Majorization def'n\n",
        "      isTrue*=1\n",
        "    else:\n",
        "      isTrue *= 0\n",
        "  return isTrue==1  #returns 0 if false (does not y majorize x), 1 if true (y majorizes x)\n",
        "\n",
        "\n",
        "# Test Code:\n",
        "A = [2, 3, 5, 3, 2]\n",
        "B = [3, 1, 6, 2, 3]\n",
        "print(isMajorized(A,B))\n",
        "# isMajorized(B,A)\n",
        "sum_arr_till_index(A,len(A))"
      ],
      "execution_count": 5,
      "outputs": [
        {
          "output_type": "stream",
          "text": [
            "True\n"
          ],
          "name": "stdout"
        },
        {
          "output_type": "execute_result",
          "data": {
            "text/plain": [
              "15"
            ]
          },
          "metadata": {
            "tags": []
          },
          "execution_count": 5
        }
      ]
    },
    {
      "cell_type": "code",
      "metadata": {
        "colab": {
          "base_uri": "https://localhost:8080/"
        },
        "id": "nlux-HPPP7Dk",
        "outputId": "1ee79391-817b-4dfc-f118-dfcac968de3a"
      },
      "source": [
        "def find_k_idx(x,y): #Find the k-index such that y_k <= x_1 <= y_{k-1}.\n",
        "  x = bubbleSort(x)\n",
        "  y = bubbleSort(y)\n",
        "\n",
        "  x1 = x[0]\n",
        "\n",
        "  for k in range(1, len(y)):\n",
        "    if (y[k] <= x1 <= y[k-1]):\n",
        "      return k\n",
        "\n",
        "# Test Code:\n",
        "xx = [100, 50, 25, 25, 0]\n",
        "yy = [125, 25, 25, 25, 0]\n",
        "# find_k_idx(xx,yy)\n",
        "X = [5, 10, 15, 20]\n",
        "Y = [7, 8, 1, 34]\n",
        "find_k_idx(X,Y)\n",
        "X, Y = bubbleSort(X[1:]), bubbleSort(Y[1:])\n",
        "print(find_k_idx(X,Y))\n",
        "yY = [15,10,5]\n",
        "xX = [8,7,1]\n",
        "print(find_k_idx(xX[1:], yY[1:]))"
      ],
      "execution_count": 4,
      "outputs": [
        {
          "output_type": "stream",
          "text": [
            "None\n",
            "1\n"
          ],
          "name": "stdout"
        }
      ]
    },
    {
      "cell_type": "code",
      "metadata": {
        "colab": {
          "base_uri": "https://localhost:8080/"
        },
        "id": "KdJ1KrZKQSuv",
        "outputId": "0d3b2a71-541a-4078-d5c0-c01f3b326861"
      },
      "source": [
        "def t_parameters(x, y): # x majorized by y; finds t-parameters such that x = Dy, D = T_r...T_2 T_1\n",
        "  # First sort vectors into descending order\n",
        "  x_copy =  bubbleSort(x) \n",
        "  y_copy = bubbleSort(y)\n",
        "  t_parameters_list = []\n",
        "\n",
        "  if (len(x)!= len(y)):\n",
        "    print(\"Unequal lengths\")\n",
        "    return False  #or break?\n",
        "  if (isMajorized(x,y)==False):\n",
        "    print(\"Not majorized\")\n",
        "    return False  #or break?\n",
        "\n",
        "  # y_n <= x_1 <= y_1 and y_k <= x_1 <= y_{k-1}\n",
        "  # Therefore x_1 = t*y_1 + (1-t)*y_k\n",
        "  # Therefore t = (x_1-y_k)/(y_1-y_k)\n",
        "  i=0\n",
        "  k=0\n",
        "  t=0\n",
        "  while i < len(x)-1: #iterate appropriate amount of times (1 less than dimension of x,y)\n",
        "    k = find_k_idx(x_copy, y_copy)  #Find appropriate k index\n",
        "    t = (x_copy[0]-y_copy[k])/(y_copy[0]-y_copy[k]) #Write down t\n",
        "    t_parameters_list.append(t)  #Append t to list\n",
        "    y_copy[k] = t*y_copy[k] + (1-t)*y_copy[0] #Change k-th index entry according to T-transform\n",
        "    y_copy = y_copy[1:] # Pop the first index to get reduced vector\n",
        "    x_copy = x_copy[1:] # Pop the first index to get reduced vector\n",
        "    i+=1\n",
        "\n",
        "  return t_parameters_list\n",
        "\n",
        "\n",
        "# Test Code:\n",
        "X = [5, 10, 15, 20]\n",
        "Y = [7, 8, 1, 34]\n",
        "print('Example 1:', t_parameters(X,Y))\n",
        "\n",
        "Xx = [1/2, 2/5, 1/10]\n",
        "Yy = [3/5, 1/5, 1/5]\n",
        "print('Example 2:', t_parameters(Xx,Yy))  #Nielsen example\n",
        "\n",
        "# 5D pseudo-TMS->Bell state case:\n",
        "lamb = .75  #lambda = tanh(r), in this case lamb>=0.72 for majorization condition\n",
        "N = 1 + lamb**2 + lamb**4 + lamb**6 + lamb**8 #normalization\n",
        "pseudoTMS = [1/N, lamb**2/N, lamb**4/N, lamb**6/N, lamb**8/N]\n",
        "Bell = [1/2, 1/2, 0, 0, 0]\n",
        "print('pseudoTMS->Bell:', t_parameters(pseudoTMS,Bell))"
      ],
      "execution_count": 19,
      "outputs": [
        {
          "output_type": "stream",
          "text": [
            "Example 1: [0.46153846153846156, 0.5333333333333333, 0.6923076923076923]\n",
            "Not majorized\n",
            "Example 2: False\n",
            "pseudoTMS->Bell: [0.927214719760047, 0.4840011596679688, 0.5322245322245323, 0.6400000000000001]\n"
          ],
          "name": "stdout"
        }
      ]
    }
  ]
}