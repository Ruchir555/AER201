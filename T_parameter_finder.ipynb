{
  "nbformat": 4,
  "nbformat_minor": 0,
  "metadata": {
    "colab": {
      "name": "T_parameter_finder.ipynb",
      "provenance": [],
      "collapsed_sections": [],
      "include_colab_link": true
    },
    "kernelspec": {
      "name": "python3",
      "display_name": "Python 3"
    },
    "language_info": {
      "name": "python"
    }
  },
  "cells": [
    {
      "cell_type": "markdown",
      "metadata": {
        "id": "view-in-github",
        "colab_type": "text"
      },
      "source": [
        "<a href=\"https://colab.research.google.com/github/Ruchir555/AER201/blob/master/T_parameter_finder.ipynb\" target=\"_parent\"><img src=\"https://colab.research.google.com/assets/colab-badge.svg\" alt=\"Open In Colab\"/></a>"
      ]
    },
    {
      "cell_type": "markdown",
      "metadata": {
        "id": "ChTCy5I_SwMl"
      },
      "source": [
        "This program finds the $t$-parameters between an arbitrary numerical sequence of vectors following the majorization condition. This is done in the function t_parameters(x, y). Firstly, it sorts the vectors $x$ & $y$ into descending order, after which it checks whether or not the vectors actually obey the majorization relation ($x \\prec y$), and if they are the same length. Then, it finds the k index such that $y_k \\leq x_1 \\leq y_{k-1}$, such that we can write the respective t-parameter as:\n",
        "\n",
        "$$\n",
        "t = \\frac{x_1-y_k}{y_1-y_k}\n",
        "$$\n",
        "\n",
        "This process is repeated with all the reduced vectors (obtained by removing the first element of the vector and transforming the $k$-th element of y as $(t\\cdot y_k + (1-t)\\cdot y_1)$), such that ($d-1$) $t$-parameters are found for vectors of length $d$. \n",
        "\n",
        "This program has several helper functions (sum_arr_till_index(arr, idx), isMajorized(x,y), bubbleSort(arr), find_k_idx(x,y)) which are fairly straightforward, but explained below nevertheless. "
      ]
    },
    {
      "cell_type": "code",
      "metadata": {
        "id": "LhBqHJfASmUu",
        "colab": {
          "base_uri": "https://localhost:8080/"
        },
        "outputId": "e5cf8514-2f97-491b-9acf-1b8fd266446e"
      },
      "source": [
        "def bubbleSort(arr):  #Sort in descending order, O(n^2)\n",
        "    n = len(arr)\n",
        "    # Traverse through all array elements\n",
        "    for i in range(n):\n",
        "        # Last i elements are already in place\n",
        "        for j in range(0, n-i-1):\n",
        "            # traverse the array from 0 to n-i-1\n",
        "            # Swap if the element found is greater\n",
        "            # than the next element\n",
        "            if arr[j] < arr[j+1] :\n",
        "                arr[j], arr[j+1] = arr[j+1], arr[j]\n",
        "    return arr\n",
        "\n",
        "#Test code:\n",
        "x = [5, 3, 2, 9, 10, 19, 110]\n",
        "print(bubbleSort(x))"
      ],
      "execution_count": 4,
      "outputs": [
        {
          "output_type": "stream",
          "text": [
            "[110, 19, 10, 9, 5, 3, 2]\n"
          ],
          "name": "stdout"
        }
      ]
    },
    {
      "cell_type": "code",
      "metadata": {
        "colab": {
          "base_uri": "https://localhost:8080/"
        },
        "id": "D8R-0j39QWsr",
        "outputId": "2bd7dbd3-bb4e-4604-bb8f-8f168c73a39e"
      },
      "source": [
        "def sum_arr_till_index(arr, idx): #sum an array from index 0 to idx\n",
        "  sum = 0\n",
        "  for i in range(0,idx):\n",
        "    sum += arr[i]\n",
        "  return sum\n",
        "\n",
        "\n",
        "def isMajorized(x,y): #check if x is majorized by y\n",
        "  if (len(x)!= len(y)):\n",
        "    return False\n",
        "\n",
        "  isTrue = 1  #1 == True, 0 == False\n",
        "  x = bubbleSort(x)\n",
        "  y = bubbleSort(y)\n",
        "\n",
        "  for k in range(0,len(x)+1):\n",
        "    if (sum_arr_till_index(x,k) <= sum_arr_till_index(y,k)):  #Majorization def'n\n",
        "      isTrue*=1\n",
        "    else:\n",
        "      isTrue *= 0\n",
        "  return isTrue==1  #returns 0 if false (does not y majorize x), 1 if true (y majorizes x)\n",
        "\n",
        "\n",
        "# Test Code:\n",
        "A = [2, 3, 5, 3, 2]\n",
        "B = [3, 1, 6, 2, 3]\n",
        "print(isMajorized(A,B))\n",
        "# isMajorized(B,A)\n",
        "sum_arr_till_index(A,len(A))"
      ],
      "execution_count": 5,
      "outputs": [
        {
          "output_type": "stream",
          "text": [
            "True\n"
          ],
          "name": "stdout"
        },
        {
          "output_type": "execute_result",
          "data": {
            "text/plain": [
              "15"
            ]
          },
          "metadata": {},
          "execution_count": 5
        }
      ]
    },
    {
      "cell_type": "code",
      "metadata": {
        "colab": {
          "base_uri": "https://localhost:8080/"
        },
        "id": "nlux-HPPP7Dk",
        "outputId": "a0991869-6fc6-460b-e355-3719b246dacc"
      },
      "source": [
        "def find_k_idx(x,y): #Find the k-index such that y_k <= x_1 <= y_{k-1}.\n",
        "  x = bubbleSort(x)\n",
        "  y = bubbleSort(y)\n",
        "\n",
        "  x1 = x[0]\n",
        "\n",
        "  for k in range(1, len(y)):\n",
        "    if (y[k] <= x1 <= y[k-1]):\n",
        "      return k\n",
        "\n",
        "# Test Code:\n",
        "xx = [100, 50, 25, 25, 0]\n",
        "yy = [125, 25, 25, 25, 0]\n",
        "# find_k_idx(xx,yy)\n",
        "X = [5, 10, 15, 20]\n",
        "Y = [7, 8, 1, 34]\n",
        "# find_k_idx(X,Y)\n",
        "X, Y = bubbleSort(X[1:]), bubbleSort(Y[1:])\n",
        "print(find_k_idx(X,Y))\n",
        "yY = [15,10,5]\n",
        "xX = [8,7,1]\n",
        "print(find_k_idx(xX[1:], yY[1:]))"
      ],
      "execution_count": 8,
      "outputs": [
        {
          "output_type": "stream",
          "text": [
            "1\n",
            "1\n"
          ],
          "name": "stdout"
        }
      ]
    },
    {
      "cell_type": "code",
      "metadata": {
        "colab": {
          "base_uri": "https://localhost:8080/"
        },
        "id": "KdJ1KrZKQSuv",
        "outputId": "a75ff1a4-0a4c-408c-a774-7c0b849f50e9"
      },
      "source": [
        "def t_parameters(x, y): # x majorized by y; finds t-parameters such that x = Dy, D = T_r...T_2 T_1\n",
        "  # First sort vectors into descending order\n",
        "  x_copy =  bubbleSort(x) \n",
        "  y_copy = bubbleSort(y)\n",
        "  t_parameters_list = []\n",
        "  index_choice_list = []  #which index is chosen at each reduced vector step\n",
        "\n",
        "  if (len(x)!= len(y)):\n",
        "    print(\"Unequal lengths \\n\")\n",
        "    return False  #or break?\n",
        "  if (isMajorized(x,y)==False):\n",
        "    print(\"Not majorized \\n\")\n",
        "    return t_parameters_list, index_choice_list  #or break?\n",
        "\n",
        "  # y_n <= x_1 <= y_1 and y_k <= x_1 <= y_{k-1}\n",
        "  # Therefore x_1 = t*y_1 + (1-t)*y_k\n",
        "  # Therefore t = (x_1-y_k)/(y_1-y_k)\n",
        "  i=0\n",
        "  k=0\n",
        "  t=0\n",
        "  while i < len(x)-1: #iterate appropriate amount of times (1 less than dimension of x,y)\n",
        "    k = find_k_idx(x_copy, y_copy)  #Find appropriate k index\n",
        "    index_choice_list.append(k+1) #append index choice; k+1 because Python starts from 0\n",
        "    t = (x_copy[0]-y_copy[k])/(y_copy[0]-y_copy[k]) #Write down t\n",
        "    t_parameters_list.append(t)  #Append t to list\n",
        "    y_copy[k] = t*y_copy[k] + (1-t)*y_copy[0] #Change k-th index entry according to T-transform\n",
        "    y_copy = y_copy[1:] # Pop the first index to get reduced vector\n",
        "    x_copy = x_copy[1:] # Pop the first index to get reduced vector\n",
        "    i+=1\n",
        "\n",
        "    if (t>1 or t<0):  #out of bounds t condition\n",
        "      print(\"Incorrect t obtained \\n\")\n",
        "      return False  #or break?\n",
        "\n",
        "  return t_parameters_list, index_choice_list\n",
        "\n",
        "\n",
        "# Test Code:\n",
        "X = [5, 10, 15, 20]\n",
        "Y = [7, 8, 1, 34]\n",
        "tparams1, indices1 = t_parameters(X,Y)\n",
        "print('Example 1:', tparams1, '\\n')  #[0.46153846153846156, 0.5333333333333333, 0.6923076923076923] \n",
        "\n",
        "Xx = [1/2, 2/5, 1/10]\n",
        "Yy = [3/5, 1/5, 1/5]\n",
        "tparams2, indices2 = t_parameters(Xx,Yy)\n",
        "print('Example 2:', tparams2, '\\n')  #Nielsen example, not majorized\n",
        "\n",
        "a = [5, 3, 2]\n",
        "b = [6, 3, 1]\n",
        "tparams3, indices3 = t_parameters(a,b)\n",
        "print('Example 3:', tparams3, '\\n')  #[0.6666666666666666, 0.6666666666666666] \n",
        "\n",
        "# 5D pseudo-TMS->Bell state case:\n",
        "lamb = .75  #lambda = tanh(r), in this case lamb>=0.72 for majorization condition\n",
        "N = 1 + lamb**2 + lamb**4 + lamb**6 + lamb**8 #normalization\n",
        "pseudoTMS5D = [1/N, lamb**2/N, lamb**4/N, lamb**6/N, lamb**8/N]\n",
        "Bell = [1/2, 1/2, 0, 0, 0]\n",
        "tparams4, indices4 = t_parameters(pseudoTMS5D,Bell)\n",
        "print('pseudoTMS5D->Bell:', tparams4, '\\n') #[0.927214719760047, 0.4840011596679688, 0.5322245322245323, 0.6400000000000001] \n",
        "print('pseudoTMS5D->Bell: Index choice:',indices4)"
      ],
      "execution_count": 20,
      "outputs": [
        {
          "output_type": "stream",
          "text": [
            "Example 1: [0.46153846153846156, 0.5333333333333333, 0.6923076923076923] \n",
            "\n",
            "Not majorized \n",
            "\n",
            "Example 2: [] \n",
            "\n",
            "Example 3: [0.6666666666666666, 0.6666666666666666] \n",
            "\n",
            "pseudoTMS5D->Bell: [0.927214719760047, 0.4840011596679688, 0.5322245322245323, 0.6400000000000001] \n",
            "\n",
            "pseudoTMS5D->Bell: Index choice: [3, 2, 2, 2]\n"
          ],
          "name": "stdout"
        }
      ]
    },
    {
      "cell_type": "code",
      "metadata": {
        "colab": {
          "base_uri": "https://localhost:8080/"
        },
        "id": "TqyGTwBgZgnG",
        "outputId": "b1cc9068-d182-4361-abad-f4de3c173530"
      },
      "source": [
        "from math import tanh, atanh, sqrt\n",
        "\n",
        "def generateTMSSvector(r, N): #generates an N-length TMSS vector (renormalized) with squeezing parameter r\n",
        "  lamb = tanh(r)\n",
        "  r_min = atanh(1/sqrt(2))\n",
        "  if r < r_min:\n",
        "    print(\"Less than minimum r by Nielsen criteria \\n\")\n",
        "    return False\n",
        "\n",
        "  TMSSvector = [0]*N  #instantiate\n",
        "\n",
        "  for i in range (0, N):\n",
        "    TMSSvector[i] = (1-lamb**2)*(lamb)**(2*i) #generate\n",
        "\n",
        "  reduced_vector_sum = sum_arr_till_index(TMSSvector, N)\n",
        "\n",
        "  for j in range (0, N):  #renormalize\n",
        "    TMSSvector[j] = TMSSvector[j]/reduced_vector_sum\n",
        "\n",
        "  return TMSSvector\n",
        "\n",
        "\n",
        "def generateBellstate_reduced(N): #generates an N-length Bell-state vector \n",
        "  bellStatearray = [0]*N\n",
        "  bellStatearray[0] = 1/2\n",
        "  bellStatearray[1] = 1/2\n",
        "\n",
        "  return bellStatearray\n",
        "\n",
        "# Test Code:\n",
        "print('Example 1:', generateTMSSvector(.5, 10))\n",
        "print('Example 2:', generateTMSSvector(1, 10))\n",
        "print('Example 3:', generateTMSSvector(atanh(.75), 5))\n",
        "print('Example 4:', generateBellstate_reduced(5))"
      ],
      "execution_count": 21,
      "outputs": [
        {
          "output_type": "stream",
          "text": [
            "Less than minimum r by Nielsen criteria \n",
            "\n",
            "Example 1: False\n",
            "Example 2: [0.42179224436615365, 0.24465032424057584, 0.141903465391982, 0.08230765094123561, 0.04774054942739311, 0.027690743613331813, 0.016061341795519987, 0.00931599034950864, 0.005403513435991128, 0.0031341764383082103]\n",
            "Example 3: [0.4636073598800235, 0.2607791399325132, 0.14668826621203868, 0.08251214974427176, 0.04641308423115286]\n",
            "Example 4: [0.5, 0.5, 0, 0, 0]\n"
          ],
          "name": "stdout"
        }
      ]
    },
    {
      "cell_type": "code",
      "metadata": {
        "colab": {
          "base_uri": "https://localhost:8080/"
        },
        "id": "VAJl4Oi_fa-b",
        "outputId": "f82a081d-10e0-4615-f986-de9c00243b81"
      },
      "source": [
        "# Check the index distribution of the TMSS --> Bell state conversion for several lambda\n",
        "\n",
        "import numpy as np\n",
        "\n",
        "lamb_min = 1/(np.sqrt(2)) #minimum lambda by Nielsen criteria, lambda = tanh(r)\n",
        "lambVector = np.linspace(lamb_min, 100, 100)  #create many lambda to test the index distribution \n",
        "\n"
      ],
      "execution_count": 3,
      "outputs": [
        {
          "output_type": "stream",
          "text": [
            "0.7071067811865475\n"
          ],
          "name": "stdout"
        }
      ]
    },
    {
      "cell_type": "code",
      "metadata": {
        "id": "luXEu_eQYnP3",
        "colab": {
          "base_uri": "https://localhost:8080/",
          "height": 384
        },
        "outputId": "791a3b54-b60a-4b38-ddac-a0938571e967"
      },
      "source": [
        "import matplotlib.pyplot as plt\n",
        "\n",
        "r = 5 #lambda = tanh(r), in this case lamb>=0.71 (r>=0.88) for majorization condition\n",
        "N = 50 #dimension\n",
        "# check_idx_list = [2]*(N-1)\n",
        "# check_idx_list[0] = 3\n",
        "pseudoTMSND = generateTMSSvector(r, N)\n",
        "BellN = generateBellstate_reduced(N)\n",
        "tparamsN, indicesN = t_parameters(pseudoTMSND,BellN)\n",
        "print('pseudoTMSND->Bell:', tparamsN, '\\n') \n",
        "print('pseudoTMSND->Bell: Index choice:',indicesN)\n",
        "# print('Index list match?',indicesN==check_idx_list) #check if it matches the [3,2,2,2,...] pattern\n",
        "\n",
        "\n",
        "# Plot\n",
        "idx_array = [i for i in range(1,len(indicesN)+1)] #generate an indices number array (index 1, index 2, ..., index N)\n",
        "plt.scatter(idx_array, indicesN)\n",
        "plt.title('Index Choice Distribution for '+ str(N)+ r' dimensional array with $\\lambda = $'+ str(format(tanh(r),'0.3f')))\n",
        "plt.xlabel('Index Number')\n",
        "plt.ylabel('Index Choice (k)')\n",
        "plt.plot()\n"
      ],
      "execution_count": 137,
      "outputs": [
        {
          "output_type": "stream",
          "text": [
            "pseudoTMSND->Bell: [0.04017822625156039, 0.040170930559424035, 0.041844571570927615, 0.0418372913050433, 0.04365614926820433, 0.04364822216930851, 0.045632054434082886, 0.045624146460506367, 0.04779653813684354, 0.04778785908713025, 0.05017703467577322, 0.05016838063319691, 0.052808592280100104, 0.05279900330914578, 0.05573201050248009, 0.05572245441510328, 0.058999958658643464, 0.05898924525552492, 0.06267572766880405, 0.0626650602490949, 0.06684236166987463, 0.06683022451264767, 0.0716033577380492, 0.07159128659645156, 0.07709781886569954, 0.07708381919493572, 0.083506848908819, 0.08349295196561707, 0.09108254074348174, 0.09106600222838317, 0.1001717026678398, 0.10015533494202732, 0.11128270500582556, 0.11126249793270247, 0.1251688988819349, 0.12514901580070614, 0.14302583173255395, 0.14299986198952735, 0.16683065646229292, 0.16680541595616405, 0.2001634793164011, 0.20012713298703055, 0.2501532449810913, 0.25011918679332196, 0.33348468108533236, 0.33342413319133674, 0.5001134987919496, 0.00027235836014732136, 0.5000453999296687] \n",
            "\n",
            "pseudoTMSND->Bell: Index choice: [3, 3, 3, 3, 3, 3, 3, 3, 3, 3, 3, 3, 3, 3, 3, 3, 3, 3, 3, 3, 3, 3, 3, 3, 3, 3, 3, 3, 3, 3, 3, 3, 3, 3, 3, 3, 3, 3, 3, 3, 3, 3, 3, 3, 3, 3, 3, 2, 2]\n"
          ],
          "name": "stdout"
        },
        {
          "output_type": "execute_result",
          "data": {
            "text/plain": [
              "[]"
            ]
          },
          "metadata": {},
          "execution_count": 137
        },
        {
          "output_type": "display_data",
          "data": {
            "image/png": "[encoded data removed]",
            "text/plain": [
              "<Figure size 432x288 with 1 Axes>"
            ]
          },
          "metadata": {
            "needs_background": "light"
          }
        }
      ]
    },
    {
      "cell_type": "code",
      "metadata": {
        "id": "m9kdYSxxVYup"
      },
      "source": [
        ""
      ],
      "execution_count": null,
      "outputs": []
    }
  ]
}